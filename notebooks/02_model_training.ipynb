{
 "cells": [
  {
   "cell_type": "markdown",
   "id": "bbe46f41",
   "metadata": {},
   "source": [
    "# Iris Model Training\n",
    "**Goal:** "
   ]
  },
  {
   "cell_type": "markdown",
   "id": "9edb899b",
   "metadata": {},
   "source": [
    "## 1. Imports and Setup"
   ]
  },
  {
   "cell_type": "code",
   "execution_count": 1,
   "id": "c2db1164",
   "metadata": {},
   "outputs": [],
   "source": [
    "# Data handling\n",
    "import pandas as pd\n",
    "import numpy as np\n",
    "\n",
    "# Visualization\n",
    "import matplotlib.pyplot as plt\n",
    "import seaborn as sns\n",
    "\n",
    "# Model training and evaluation\n",
    "from sklearn.model_selection import train_test_split, cross_val_score, GridSearchCV\n",
    "from sklearn.metrics import accuracy_score, classification_report, confusion_matrix\n",
    "\n",
    "# Models\n",
    "from sklearn.linear_model import LogisticRegression\n",
    "from sklearn.tree import DecisionTreeClassifier\n",
    "from sklearn.ensemble import RandomForestClassifier\n",
    "from sklearn.svm import SVC\n",
    "from sklearn.neighbors import KNeighborsClassifier\n",
    "\n",
    "# Saving model\n",
    "import joblib\n"
   ]
  },
  {
   "cell_type": "markdown",
   "id": "fc561ada",
   "metadata": {},
   "source": [
    "## 2. Load and Split Data"
   ]
  },
  {
   "cell_type": "code",
   "execution_count": 2,
   "id": "aeb3e940",
   "metadata": {},
   "outputs": [
    {
     "name": "stdout",
     "output_type": "stream",
     "text": [
      "Training set: (90, 4), Validation set: (30, 4), Test set: (30, 4)\n"
     ]
    }
   ],
   "source": [
    "# Load dataset\n",
    "df = pd.read_csv('../data/Iris.csv')\n",
    "\n",
    "# Features and target\n",
    "features = ['SepalLengthCm', 'SepalWidthCm', 'PetalLengthCm', 'PetalWidthCm']\n",
    "target = 'Species'\n",
    "\n",
    "X = df[features]\n",
    "y = df[target]\n",
    "\n",
    "# Train-validation-test split\n",
    "X_train, X, y_train, y = train_test_split(\n",
    "    X, y, test_size = 0.4, random_state = 42, stratify=y )\n",
    "X_val, X_test, y_val, y_test = train_test_split(\n",
    "    X, y, test_size = 0.5, random_state= 42, stratify = y) \n",
    "\n",
    "print(f\"Training set: {X_train.shape}, Validation set: {X_val.shape}, Test set: {X_test.shape}\")"
   ]
  },
  {
   "cell_type": "markdown",
   "id": "4fa4ee10",
   "metadata": {},
   "source": [
    "## 3. Models Training & Evaluation"
   ]
  },
  {
   "cell_type": "code",
   "execution_count": 3,
   "id": "018d83e8",
   "metadata": {},
   "outputs": [
    {
     "name": "stdout",
     "output_type": "stream",
     "text": [
      "                 Model  Validation Accuracy  Test Accuracy\n",
      "0  Logistic Regression             0.933333       0.966667\n",
      "1        Decision Tree             0.966667       0.933333\n",
      "2        Random Forest             0.933333       0.900000\n",
      "3                  SVM             0.933333       1.000000\n",
      "4                  KNN             0.966667       0.900000\n"
     ]
    }
   ],
   "source": [
    "models = {\n",
    "    'Logistic Regression': LogisticRegression(max_iter = 200),\n",
    "    'Decision Tree': DecisionTreeClassifier(random_state = 42),\n",
    "    'Random Forest': RandomForestClassifier(random_state = 42),\n",
    "    'SVM': SVC(),\n",
    "    'KNN': KNeighborsClassifier()\n",
    "}\n",
    "\n",
    "results = pd.DataFrame(columns=['Model', 'Validation Accuracy', 'Test Accuracy'])\n",
    "for name, model in models.items():\n",
    "    model.fit(X_train, y_train)\n",
    "    predictions_val = model.predict(X_val)\n",
    "    predictions_test = model.predict(X_test)\n",
    "    val_accuracy = accuracy_score(y_val, predictions_val)\n",
    "    test_accuracy = accuracy_score(y_test, predictions_test)\n",
    "    results.loc[len(results)] = [name, val_accuracy, test_accuracy]\n",
    "\n",
    "print(results)"
   ]
  },
  {
   "cell_type": "markdown",
   "id": "31a99748",
   "metadata": {},
   "source": [
    "## 4. Save Model"
   ]
  },
  {
   "cell_type": "code",
   "execution_count": 4,
   "id": "6a2696cb",
   "metadata": {},
   "outputs": [
    {
     "name": "stdout",
     "output_type": "stream",
     "text": [
      "Model saved as decision_tree_iris_model.pkl\n"
     ]
    }
   ],
   "source": [
    "# Choose the best model based on validation accuracy\n",
    "best_model_name = results.loc[results['Validation Accuracy'].idxmax(), 'Model']\n",
    "best_model = models[best_model_name]\n",
    "\n",
    "# Save the best model\n",
    "path = f'../models/{best_model_name.replace(' ', '_').lower()}_iris_model.pkl'\n",
    "joblib.dump(best_model, path)\n",
    "print(f\"Model saved as {best_model_name.replace(' ', '_').lower()}_iris_model.pkl\")"
   ]
  }
 ],
 "metadata": {
  "kernelspec": {
   "display_name": "Python 3",
   "language": "python",
   "name": "python3"
  },
  "language_info": {
   "codemirror_mode": {
    "name": "ipython",
    "version": 3
   },
   "file_extension": ".py",
   "mimetype": "text/x-python",
   "name": "python",
   "nbconvert_exporter": "python",
   "pygments_lexer": "ipython3",
   "version": "3.12.10"
  }
 },
 "nbformat": 4,
 "nbformat_minor": 5
}
